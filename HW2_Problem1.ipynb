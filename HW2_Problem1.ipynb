{
 "cells": [
  {
   "cell_type": "code",
   "execution_count": 1,
   "metadata": {},
   "outputs": [],
   "source": [
    "# genearte points\n",
    "import numpy as np\n",
    "mean1 = [1,2]\n",
    "cov1 = [[1,0],[0,1]]\n",
    "sample1 = np.random.RandomState(100).multivariate_normal(mean1,cov1,10000)\n",
    "mean2 = [6,8]\n",
    "cov2 = [[2,0],[0,2]]\n",
    "sample2 = np.random.RandomState(150).multivariate_normal(mean2,cov2,10000)"
   ]
  },
  {
   "cell_type": "code",
   "execution_count": 2,
   "metadata": {},
   "outputs": [
    {
     "data": {
      "text/plain": [
       "array([[-0.74976547,  2.3426804 ],\n",
       "       [ 2.1530358 ,  1.74756396],\n",
       "       [ 1.98132079,  2.51421884],\n",
       "       ...,\n",
       "       [ 2.8359235 ,  1.75501206],\n",
       "       [ 0.47799926,  0.55138998],\n",
       "       [ 1.52602994,  1.75450184]])"
      ]
     },
     "execution_count": 2,
     "metadata": {},
     "output_type": "execute_result"
    }
   ],
   "source": [
    "sample1"
   ]
  },
  {
   "cell_type": "code",
   "execution_count": 3,
   "metadata": {},
   "outputs": [
    {
     "data": {
      "text/plain": [
       "[<matplotlib.lines.Line2D at 0x2b689dd4610>]"
      ]
     },
     "execution_count": 3,
     "metadata": {},
     "output_type": "execute_result"
    },
    {
     "data": {
      "image/png": "[encoded data removed]",
      "text/plain": [
       "<Figure size 432x288 with 1 Axes>"
      ]
     },
     "metadata": {
      "needs_background": "light"
     },
     "output_type": "display_data"
    }
   ],
   "source": [
    "# visula representation\n",
    "import matplotlib.pyplot as plt\n",
    "plt.plot(sample1[:,0],sample1[:,1],'go', markersize =4)\n",
    "plt.plot(sample2[:,0],sample2[:,1],'go', markersize =4)"
   ]
  },
  {
   "cell_type": "code",
   "execution_count": 4,
   "metadata": {},
   "outputs": [],
   "source": [
    "# concatenate 2 samples\n",
    "import numpy as np\n",
    "sample = np.concatenate((sample1,sample2),axis=0)"
   ]
  },
  {
   "cell_type": "code",
   "execution_count": 5,
   "metadata": {},
   "outputs": [
    {
     "data": {
      "text/plain": [
       "(10000, 2)"
      ]
     },
     "execution_count": 5,
     "metadata": {},
     "output_type": "execute_result"
    }
   ],
   "source": [
    "sample1.shape\n",
    "# sample2.shape\n",
    "# sample.shape"
   ]
  },
  {
   "cell_type": "code",
   "execution_count": 6,
   "metadata": {},
   "outputs": [],
   "source": [
    "#create DataFrame\n",
    "dic = {'X':sample[:,0],'Y':sample[:,1]}\n",
    "import pandas as pd\n",
    "df = pd.DataFrame(dic)"
   ]
  },
  {
   "cell_type": "code",
   "execution_count": 7,
   "metadata": {},
   "outputs": [
    {
     "data": {
      "text/html": [
       "<div>\n",
       "<style scoped>\n",
       "    .dataframe tbody tr th:only-of-type {\n",
       "        vertical-align: middle;\n",
       "    }\n",
       "\n",
       "    .dataframe tbody tr th {\n",
       "        vertical-align: top;\n",
       "    }\n",
       "\n",
       "    .dataframe thead th {\n",
       "        text-align: right;\n",
       "    }\n",
       "</style>\n",
       "<table border=\"1\" class=\"dataframe\">\n",
       "  <thead>\n",
       "    <tr style=\"text-align: right;\">\n",
       "      <th></th>\n",
       "      <th>X</th>\n",
       "      <th>Y</th>\n",
       "    </tr>\n",
       "  </thead>\n",
       "  <tbody>\n",
       "    <tr>\n",
       "      <th>0</th>\n",
       "      <td>-0.749765</td>\n",
       "      <td>2.342680</td>\n",
       "    </tr>\n",
       "    <tr>\n",
       "      <th>1</th>\n",
       "      <td>2.153036</td>\n",
       "      <td>1.747564</td>\n",
       "    </tr>\n",
       "    <tr>\n",
       "      <th>2</th>\n",
       "      <td>1.981321</td>\n",
       "      <td>2.514219</td>\n",
       "    </tr>\n",
       "    <tr>\n",
       "      <th>3</th>\n",
       "      <td>1.221180</td>\n",
       "      <td>0.929957</td>\n",
       "    </tr>\n",
       "    <tr>\n",
       "      <th>4</th>\n",
       "      <td>0.810504</td>\n",
       "      <td>2.255001</td>\n",
       "    </tr>\n",
       "    <tr>\n",
       "      <th>...</th>\n",
       "      <td>...</td>\n",
       "      <td>...</td>\n",
       "    </tr>\n",
       "    <tr>\n",
       "      <th>19995</th>\n",
       "      <td>5.643511</td>\n",
       "      <td>9.248806</td>\n",
       "    </tr>\n",
       "    <tr>\n",
       "      <th>19996</th>\n",
       "      <td>4.444755</td>\n",
       "      <td>9.356140</td>\n",
       "    </tr>\n",
       "    <tr>\n",
       "      <th>19997</th>\n",
       "      <td>5.793822</td>\n",
       "      <td>9.845057</td>\n",
       "    </tr>\n",
       "    <tr>\n",
       "      <th>19998</th>\n",
       "      <td>4.619623</td>\n",
       "      <td>8.666694</td>\n",
       "    </tr>\n",
       "    <tr>\n",
       "      <th>19999</th>\n",
       "      <td>4.961992</td>\n",
       "      <td>8.544855</td>\n",
       "    </tr>\n",
       "  </tbody>\n",
       "</table>\n",
       "<p>20000 rows × 2 columns</p>\n",
       "</div>"
      ],
      "text/plain": [
       "              X         Y\n",
       "0     -0.749765  2.342680\n",
       "1      2.153036  1.747564\n",
       "2      1.981321  2.514219\n",
       "3      1.221180  0.929957\n",
       "4      0.810504  2.255001\n",
       "...         ...       ...\n",
       "19995  5.643511  9.248806\n",
       "19996  4.444755  9.356140\n",
       "19997  5.793822  9.845057\n",
       "19998  4.619623  8.666694\n",
       "19999  4.961992  8.544855\n",
       "\n",
       "[20000 rows x 2 columns]"
      ]
     },
     "execution_count": 7,
     "metadata": {},
     "output_type": "execute_result"
    }
   ],
   "source": [
    "df"
   ]
  },
  {
   "cell_type": "code",
   "execution_count": 8,
   "metadata": {},
   "outputs": [
    {
     "data": {
      "text/html": [
       "<div>\n",
       "<style scoped>\n",
       "    .dataframe tbody tr th:only-of-type {\n",
       "        vertical-align: middle;\n",
       "    }\n",
       "\n",
       "    .dataframe tbody tr th {\n",
       "        vertical-align: top;\n",
       "    }\n",
       "\n",
       "    .dataframe thead th {\n",
       "        text-align: right;\n",
       "    }\n",
       "</style>\n",
       "<table border=\"1\" class=\"dataframe\">\n",
       "  <thead>\n",
       "    <tr style=\"text-align: right;\">\n",
       "      <th></th>\n",
       "      <th>X</th>\n",
       "      <th>Y</th>\n",
       "    </tr>\n",
       "  </thead>\n",
       "  <tbody>\n",
       "    <tr>\n",
       "      <th>count</th>\n",
       "      <td>20000.000000</td>\n",
       "      <td>20000.000000</td>\n",
       "    </tr>\n",
       "    <tr>\n",
       "      <th>mean</th>\n",
       "      <td>3.498848</td>\n",
       "      <td>4.995217</td>\n",
       "    </tr>\n",
       "    <tr>\n",
       "      <th>std</th>\n",
       "      <td>2.778894</td>\n",
       "      <td>3.247418</td>\n",
       "    </tr>\n",
       "    <tr>\n",
       "      <th>min</th>\n",
       "      <td>-2.683425</td>\n",
       "      <td>-1.583107</td>\n",
       "    </tr>\n",
       "    <tr>\n",
       "      <th>25%</th>\n",
       "      <td>1.004813</td>\n",
       "      <td>1.985904</td>\n",
       "    </tr>\n",
       "    <tr>\n",
       "      <th>50%</th>\n",
       "      <td>3.051485</td>\n",
       "      <td>4.501773</td>\n",
       "    </tr>\n",
       "    <tr>\n",
       "      <th>75%</th>\n",
       "      <td>5.987912</td>\n",
       "      <td>7.998471</td>\n",
       "    </tr>\n",
       "    <tr>\n",
       "      <th>max</th>\n",
       "      <td>11.445955</td>\n",
       "      <td>13.679714</td>\n",
       "    </tr>\n",
       "  </tbody>\n",
       "</table>\n",
       "</div>"
      ],
      "text/plain": [
       "                  X             Y\n",
       "count  20000.000000  20000.000000\n",
       "mean       3.498848      4.995217\n",
       "std        2.778894      3.247418\n",
       "min       -2.683425     -1.583107\n",
       "25%        1.004813      1.985904\n",
       "50%        3.051485      4.501773\n",
       "75%        5.987912      7.998471\n",
       "max       11.445955     13.679714"
      ]
     },
     "execution_count": 8,
     "metadata": {},
     "output_type": "execute_result"
    }
   ],
   "source": [
    "df.describe()"
   ]
  },
  {
   "cell_type": "code",
   "execution_count": 9,
   "metadata": {},
   "outputs": [
    {
     "name": "stdout",
     "output_type": "stream",
     "text": [
      "[-1, 12] [4, 6]\n"
     ]
    }
   ],
   "source": [
    "#based on min and max value randomly choose a centroid\n",
    "centroid1 = [np.random.randint(-2.683425,11.445955),np.random.randint(-1.583107,13.679714)]\n",
    "centroid2 = [np.random.randint(-2.683425,11.445955),np.random.randint(-1.583107,13.679714)]\n",
    "print (centroid1, centroid2)"
   ]
  },
  {
   "cell_type": "code",
   "execution_count": 10,
   "metadata": {},
   "outputs": [
    {
     "data": {
      "text/plain": [
       "[<matplotlib.lines.Line2D at 0x2b68ab09be0>]"
      ]
     },
     "execution_count": 10,
     "metadata": {},
     "output_type": "execute_result"
    },
    {
     "data": {
      "image/png": "[encoded data removed]",
      "text/plain": [
       "<Figure size 432x288 with 1 Axes>"
      ]
     },
     "metadata": {
      "needs_background": "light"
     },
     "output_type": "display_data"
    }
   ],
   "source": [
    "#iteration 1\n",
    "# Determine distance from centroid\n",
    "\n",
    "df['d1'] = np.sqrt((df.X-centroid1[0])**2 + (df.Y - centroid1[1])**2)\n",
    "df['d2'] = np.sqrt((df.X-centroid2[0])**2 + (df.Y - centroid2[1])**2)\n",
    "\n",
    "# Determing r - binary \n",
    "df['r1'] = df.apply(lambda r: 1 if r.d1<r.d2 else 0, axis=1)\n",
    "df['r2'] = df.apply(lambda r: 1 if r.d1>r.d2 else 0, axis=1)\n",
    "\n",
    "# Plotting\n",
    "import matplotlib.pyplot as plt\n",
    "plt.plot(df[df['r1'] == 0].X, df[df['r1'] == 0].Y,'ro',markersize =4)\n",
    "plt.plot(df[df['r1'] == 1].X, df[df['r1'] == 1].Y,'bo',markersize =4)\n",
    "plt.plot(centroid1[0],centroid1[1],'yo', markersize = 15)\n",
    "plt.plot(centroid2[0],centroid2[1],'yo', markersize = 15)"
   ]
  },
  {
   "cell_type": "code",
   "execution_count": 11,
   "metadata": {},
   "outputs": [
    {
     "name": "stdout",
     "output_type": "stream",
     "text": [
      "[3.35981615206152, 11.104317196841066] [3.4992380350937826, 3.4992380350937826]\n"
     ]
    }
   ],
   "source": [
    "#Re-assessing the Centroids\n",
    "a1 = sum(df.X*df.r1)/sum(df.r1)\n",
    "a2 = sum(df.X*df.r2)/sum(df.r2)\n",
    "b1 = sum(df.Y*df.r1)/sum(df.r1)\n",
    "b2 = sum(df.X*df.r2)/sum(df.r2)\n",
    "centroid1 = [a1,b1]\n",
    "centroid2 = [a2,b2]\n",
    "print (centroid1, centroid2)"
   ]
  },
  {
   "cell_type": "code",
   "execution_count": 12,
   "metadata": {},
   "outputs": [
    {
     "data": {
      "text/plain": [
       "[<matplotlib.lines.Line2D at 0x2b68bb52280>]"
      ]
     },
     "execution_count": 12,
     "metadata": {},
     "output_type": "execute_result"
    },
    {
     "data": {
      "image/png": "[encoded data removed]",
      "text/plain": [
       "<Figure size 432x288 with 1 Axes>"
      ]
     },
     "metadata": {
      "needs_background": "light"
     },
     "output_type": "display_data"
    }
   ],
   "source": [
    "#iteration 2\n",
    "# Determine distance from 1st updated centroid\n",
    "\n",
    "df['d1'] = np.sqrt((df.X-centroid1[0])**2 + (df.Y - centroid1[1])**2)\n",
    "df['d2'] = np.sqrt((df.X-centroid2[0])**2 + (df.Y - centroid2[1])**2)\n",
    "\n",
    "# Determing r - binary \n",
    "df['r1'] = df.apply(lambda r: 1 if r.d1<r.d2 else 0, axis=1)\n",
    "df['r2'] = df.apply(lambda r: 1 if r.d1>r.d2 else 0, axis=1)\n",
    "\n",
    "# Plotting\n",
    "import matplotlib.pyplot as plt\n",
    "plt.plot(df[df['r1'] == 0].X, df[df['r1'] == 0].Y,'ro',markersize =4)\n",
    "plt.plot(df[df['r1'] == 1].X, df[df['r1'] == 1].Y,'bo',markersize =4)\n",
    "plt.plot(centroid1[0],centroid1[1],'yo', markersize = 15)\n",
    "plt.plot(centroid2[0],centroid2[1],'yo', markersize = 15)"
   ]
  },
  {
   "cell_type": "code",
   "execution_count": 13,
   "metadata": {},
   "outputs": [
    {
     "name": "stdout",
     "output_type": "stream",
     "text": [
      "[5.97618770331823, 8.76541652436537] [2.2387809755563617, 2.2387809755563617]\n"
     ]
    }
   ],
   "source": [
    "#Iterarion 3\n",
    "#Re-assessing the Centroids\n",
    "a1 = sum(df.X*df.r1)/sum(df.r1)\n",
    "a2 = sum(df.X*df.r2)/sum(df.r2)\n",
    "b1 = sum(df.Y*df.r1)/sum(df.r1)\n",
    "b2 = sum(df.X*df.r2)/sum(df.r2)\n",
    "centroid1 = [a1,b1]\n",
    "centroid2 = [a2,b2]\n",
    "print (centroid1, centroid2)"
   ]
  },
  {
   "cell_type": "code",
   "execution_count": 19,
   "metadata": {},
   "outputs": [
    {
     "data": {
      "text/plain": [
       "[<matplotlib.lines.Line2D at 0x2b68bb75490>]"
      ]
     },
     "execution_count": 19,
     "metadata": {},
     "output_type": "execute_result"
    },
    {
     "data": {
      "image/png": "[encoded data removed]",
      "text/plain": [
       "<Figure size 432x288 with 1 Axes>"
      ]
     },
     "metadata": {
      "needs_background": "light"
     },
     "output_type": "display_data"
    }
   ],
   "source": [
    "# Determine distance from 1st updated centroid\n",
    "\n",
    "df['d1'] = np.sqrt((df.X-centroid1[0])**2 + (df.Y - centroid1[1])**2)\n",
    "df['d2'] = np.sqrt((df.X-centroid2[0])**2 + (df.Y - centroid2[1])**2)\n",
    "\n",
    "# Determing r - binary \n",
    "df['r1'] = df.apply(lambda r: 1 if r.d1<r.d2 else 0, axis=1)\n",
    "df['r2'] = df.apply(lambda r: 1 if r.d1>r.d2 else 0, axis=1)\n",
    "\n",
    "# Plotting\n",
    "import matplotlib.pyplot as plt\n",
    "plt.plot(df[df['r1'] == 0].X, df[df['r1'] == 0].Y,'ro',markersize =4)\n",
    "plt.plot(df[df['r1'] == 1].X, df[df['r1'] == 1].Y,'bo',markersize =4)\n",
    "plt.plot(centroid1[0],centroid1[1],'yo', markersize = 15)\n",
    "plt.plot(centroid2[0],centroid2[1],'yo', markersize = 15)"
   ]
  },
  {
   "cell_type": "code",
   "execution_count": 20,
   "metadata": {},
   "outputs": [
    {
     "name": "stdout",
     "output_type": "stream",
     "text": [
      "[5.993838260516585, 8.00210752626741] [1.0098378476214382, 1.0098378476214382]\n"
     ]
    }
   ],
   "source": [
    "#Iterarion 4\n",
    "#Re-assessing the Centroids\n",
    "a1 = sum(df.X*df.r1)/sum(df.r1)\n",
    "a2 = sum(df.X*df.r2)/sum(df.r2)\n",
    "b1 = sum(df.Y*df.r1)/sum(df.r1)\n",
    "b2 = sum(df.X*df.r2)/sum(df.r2)\n",
    "centroid1 = [a1,b1]\n",
    "centroid2 = [a2,b2]\n",
    "print (centroid1, centroid2)"
   ]
  },
  {
   "cell_type": "code",
   "execution_count": 21,
   "metadata": {},
   "outputs": [
    {
     "data": {
      "text/plain": [
       "[<matplotlib.lines.Line2D at 0x2b68cd0fac0>]"
      ]
     },
     "execution_count": 21,
     "metadata": {},
     "output_type": "execute_result"
    },
    {
     "data": {
      "image/png": "[encoded data removed]",
      "text/plain": [
       "<Figure size 432x288 with 1 Axes>"
      ]
     },
     "metadata": {
      "needs_background": "light"
     },
     "output_type": "display_data"
    }
   ],
   "source": [
    "# Determine distance from 1st updated centroid\n",
    "\n",
    "df['d1'] = np.sqrt((df.X-centroid1[0])**2 + (df.Y - centroid1[1])**2)\n",
    "df['d2'] = np.sqrt((df.X-centroid2[0])**2 + (df.Y - centroid2[1])**2)\n",
    "\n",
    "# Determing r - binary \n",
    "df['r1'] = df.apply(lambda r: 1 if r.d1<r.d2 else 0, axis=1)\n",
    "df['r2'] = df.apply(lambda r: 1 if r.d1>r.d2 else 0, axis=1)\n",
    "\n",
    "# Plotting\n",
    "import matplotlib.pyplot as plt\n",
    "plt.plot(df[df['r1'] == 0].X, df[df['r1'] == 0].Y,'ro',markersize =4)\n",
    "plt.plot(df[df['r1'] == 1].X, df[df['r1'] == 1].Y,'bo',markersize =4)\n",
    "plt.plot(centroid1[0],centroid1[1],'yo', markersize = 15)\n",
    "plt.plot(centroid2[0],centroid2[1],'yo', markersize = 15)"
   ]
  },
  {
   "cell_type": "code",
   "execution_count": 22,
   "metadata": {},
   "outputs": [
    {
     "name": "stdout",
     "output_type": "stream",
     "text": [
      "[5.993838260516585, 8.00210752626741] [1.0098378476214382, 1.0098378476214382]\n"
     ]
    }
   ],
   "source": [
    "#Iterarion 5\n",
    "#Re-assessing the Centroids\n",
    "a1 = sum(df.X*df.r1)/sum(df.r1)\n",
    "a2 = sum(df.X*df.r2)/sum(df.r2)\n",
    "b1 = sum(df.Y*df.r1)/sum(df.r1)\n",
    "b2 = sum(df.X*df.r2)/sum(df.r2)\n",
    "centroid1 = [a1,b1]\n",
    "centroid2 = [a2,b2]\n",
    "print (centroid1, centroid2)"
   ]
  },
  {
   "cell_type": "code",
   "execution_count": 23,
   "metadata": {},
   "outputs": [
    {
     "data": {
      "text/plain": [
       "[<matplotlib.lines.Line2D at 0x2b68cd799a0>]"
      ]
     },
     "execution_count": 23,
     "metadata": {},
     "output_type": "execute_result"
    },
    {
     "data": {
      "image/png": "[encoded data removed]",
      "text/plain": [
       "<Figure size 432x288 with 1 Axes>"
      ]
     },
     "metadata": {
      "needs_background": "light"
     },
     "output_type": "display_data"
    }
   ],
   "source": [
    "# Determine distance from 1st updated centroid\n",
    "\n",
    "df['d1'] = np.sqrt((df.X-centroid1[0])**2 + (df.Y - centroid1[1])**2)\n",
    "df['d2'] = np.sqrt((df.X-centroid2[0])**2 + (df.Y - centroid2[1])**2)\n",
    "\n",
    "# Determing r - binary \n",
    "df['r1'] = df.apply(lambda r: 1 if r.d1<r.d2 else 0, axis=1)\n",
    "df['r2'] = df.apply(lambda r: 1 if r.d1>r.d2 else 0, axis=1)\n",
    "\n",
    "# Plotting\n",
    "import matplotlib.pyplot as plt\n",
    "plt.plot(df[df['r1'] == 0].X, df[df['r1'] == 0].Y,'ro',markersize =4)\n",
    "plt.plot(df[df['r1'] == 1].X, df[df['r1'] == 1].Y,'bo',markersize =4)\n",
    "plt.plot(centroid1[0],centroid1[1],'yo', markersize = 15)\n",
    "plt.plot(centroid2[0],centroid2[1],'yo', markersize = 15)"
   ]
  },
  {
   "cell_type": "markdown",
   "metadata": {},
   "source": [
    "# Repeat with different random seeds"
   ]
  },
  {
   "cell_type": "code",
   "execution_count": 46,
   "metadata": {},
   "outputs": [
    {
     "data": {
      "text/plain": [
       "[<matplotlib.lines.Line2D at 0x2b68f236370>]"
      ]
     },
     "execution_count": 46,
     "metadata": {},
     "output_type": "execute_result"
    },
    {
     "data": {
      "image/png": "[encoded data removed]",
      "text/plain": [
       "<Figure size 432x288 with 1 Axes>"
      ]
     },
     "metadata": {
      "needs_background": "light"
     },
     "output_type": "display_data"
    }
   ],
   "source": [
    "# genearte points\n",
    "import numpy as np\n",
    "mean1 = [1,2]\n",
    "cov1 = [[1,0],[0,1]]\n",
    "sample1 = np.random.RandomState(40).multivariate_normal(mean1,cov1,10000)\n",
    "mean2 = [6,8]\n",
    "cov2 = [[2,0],[0,2]]\n",
    "sample2 = np.random.RandomState(60).multivariate_normal(mean2,cov2,10000)\n",
    "\n",
    "# visula representation\n",
    "import matplotlib.pyplot as plt\n",
    "plt.plot(sample1[:,0],sample1[:,1],'go', markersize =4)\n",
    "plt.plot(sample2[:,0],sample2[:,1],'go', markersize =4)\n",
    "\n"
   ]
  },
  {
   "cell_type": "code",
   "execution_count": 47,
   "metadata": {},
   "outputs": [],
   "source": [
    "# concatenate 2 samples\n",
    "import numpy as np\n",
    "sample = np.concatenate((sample1,sample2),axis=0)\n",
    "\n",
    "#create DataFrame\n",
    "dic = {'X':sample[:,0],'Y':sample[:,1]}\n",
    "import pandas as pd\n",
    "df = pd.DataFrame(dic)\n",
    "\n",
    "\n"
   ]
  },
  {
   "cell_type": "code",
   "execution_count": 48,
   "metadata": {},
   "outputs": [
    {
     "data": {
      "text/html": [
       "<div>\n",
       "<style scoped>\n",
       "    .dataframe tbody tr th:only-of-type {\n",
       "        vertical-align: middle;\n",
       "    }\n",
       "\n",
       "    .dataframe tbody tr th {\n",
       "        vertical-align: top;\n",
       "    }\n",
       "\n",
       "    .dataframe thead th {\n",
       "        text-align: right;\n",
       "    }\n",
       "</style>\n",
       "<table border=\"1\" class=\"dataframe\">\n",
       "  <thead>\n",
       "    <tr style=\"text-align: right;\">\n",
       "      <th></th>\n",
       "      <th>X</th>\n",
       "      <th>Y</th>\n",
       "    </tr>\n",
       "  </thead>\n",
       "  <tbody>\n",
       "    <tr>\n",
       "      <th>count</th>\n",
       "      <td>20000.000000</td>\n",
       "      <td>20000.000000</td>\n",
       "    </tr>\n",
       "    <tr>\n",
       "      <th>mean</th>\n",
       "      <td>3.487628</td>\n",
       "      <td>4.996095</td>\n",
       "    </tr>\n",
       "    <tr>\n",
       "      <th>std</th>\n",
       "      <td>2.784039</td>\n",
       "      <td>3.236713</td>\n",
       "    </tr>\n",
       "    <tr>\n",
       "      <th>min</th>\n",
       "      <td>-3.029454</td>\n",
       "      <td>-2.427749</td>\n",
       "    </tr>\n",
       "    <tr>\n",
       "      <th>25%</th>\n",
       "      <td>1.001858</td>\n",
       "      <td>2.004678</td>\n",
       "    </tr>\n",
       "    <tr>\n",
       "      <th>50%</th>\n",
       "      <td>3.058304</td>\n",
       "      <td>4.491032</td>\n",
       "    </tr>\n",
       "    <tr>\n",
       "      <th>75%</th>\n",
       "      <td>5.966427</td>\n",
       "      <td>7.992969</td>\n",
       "    </tr>\n",
       "    <tr>\n",
       "      <th>max</th>\n",
       "      <td>12.217072</td>\n",
       "      <td>13.206409</td>\n",
       "    </tr>\n",
       "  </tbody>\n",
       "</table>\n",
       "</div>"
      ],
      "text/plain": [
       "                  X             Y\n",
       "count  20000.000000  20000.000000\n",
       "mean       3.487628      4.996095\n",
       "std        2.784039      3.236713\n",
       "min       -3.029454     -2.427749\n",
       "25%        1.001858      2.004678\n",
       "50%        3.058304      4.491032\n",
       "75%        5.966427      7.992969\n",
       "max       12.217072     13.206409"
      ]
     },
     "execution_count": 48,
     "metadata": {},
     "output_type": "execute_result"
    }
   ],
   "source": [
    "df.describe()"
   ]
  },
  {
   "cell_type": "code",
   "execution_count": 49,
   "metadata": {},
   "outputs": [
    {
     "name": "stdout",
     "output_type": "stream",
     "text": [
      "[4, 7] [2, 8]\n"
     ]
    }
   ],
   "source": [
    "#based on min and max value randomly choose a centroid\n",
    "centroid1 = [np.random.randint(-2.669997,11.445955),np.random.randint(-1.838710,13.679714)]\n",
    "centroid2 = [np.random.randint(-2.669997,11.445955),np.random.randint(-1.838710,13.679714)]\n",
    "print (centroid1, centroid2)\n"
   ]
  },
  {
   "cell_type": "code",
   "execution_count": 50,
   "metadata": {},
   "outputs": [
    {
     "data": {
      "text/plain": [
       "[<matplotlib.lines.Line2D at 0x2b68f29aee0>]"
      ]
     },
     "execution_count": 50,
     "metadata": {},
     "output_type": "execute_result"
    },
    {
     "data": {
      "image/png": "[encoded data removed]",
      "text/plain": [
       "<Figure size 432x288 with 1 Axes>"
      ]
     },
     "metadata": {
      "needs_background": "light"
     },
     "output_type": "display_data"
    }
   ],
   "source": [
    "#iterarion 1\n",
    "# Determine distance from centroid\n",
    "\n",
    "df['d1'] = np.sqrt((df.X-centroid1[0])**2 + (df.Y - centroid1[1])**2)\n",
    "df['d2'] = np.sqrt((df.X-centroid2[0])**2 + (df.Y - centroid2[1])**2)\n",
    "\n",
    "# Determing r - binary \n",
    "df['r1'] = df.apply(lambda r: 1 if r.d1<r.d2 else 0, axis=1)\n",
    "df['r2'] = df.apply(lambda r: 1 if r.d1>r.d2 else 0, axis=1)\n",
    "\n",
    "# Plotting\n",
    "import matplotlib.pyplot as plt\n",
    "plt.plot(df[df['r1'] == 0].X, df[df['r1'] == 0].Y,'ro',markersize =4)\n",
    "plt.plot(df[df['r1'] == 1].X, df[df['r1'] == 1].Y,'bo',markersize =4)\n",
    "plt.plot(centroid1[0],centroid1[1],'yo', markersize = 15)\n",
    "plt.plot(centroid2[0],centroid2[1],'yo', markersize = 15)"
   ]
  },
  {
   "cell_type": "code",
   "execution_count": 51,
   "metadata": {},
   "outputs": [
    {
     "name": "stdout",
     "output_type": "stream",
     "text": [
      "[4.030139582460188, 5.247026397092983] [0.33581601371514, 0.33581601371514]\n"
     ]
    }
   ],
   "source": [
    "#Iterarion2\n",
    "#Re-assessing the Centroids\n",
    "a1 = sum(df.X*df.r1)/sum(df.r1)\n",
    "a2 = sum(df.X*df.r2)/sum(df.r2)\n",
    "b1 = sum(df.Y*df.r1)/sum(df.r1)\n",
    "b2 = sum(df.X*df.r2)/sum(df.r2)\n",
    "centroid1 = [a1,b1]\n",
    "centroid2 = [a2,b2]\n",
    "print (centroid1, centroid2)"
   ]
  },
  {
   "cell_type": "code",
   "execution_count": 52,
   "metadata": {},
   "outputs": [
    {
     "data": {
      "text/plain": [
       "[<matplotlib.lines.Line2D at 0x2b68f304850>]"
      ]
     },
     "execution_count": 52,
     "metadata": {},
     "output_type": "execute_result"
    },
    {
     "data": {
      "image/png": "[encoded data removed]",
      "text/plain": [
       "<Figure size 432x288 with 1 Axes>"
      ]
     },
     "metadata": {
      "needs_background": "light"
     },
     "output_type": "display_data"
    }
   ],
   "source": [
    "# Determine distance from 1st updated centroid\n",
    "\n",
    "df['d1'] = np.sqrt((df.X-centroid1[0])**2 + (df.Y - centroid1[1])**2)\n",
    "df['d2'] = np.sqrt((df.X-centroid2[0])**2 + (df.Y - centroid2[1])**2)\n",
    "\n",
    "# Determing r - binary \n",
    "df['r1'] = df.apply(lambda r: 1 if r.d1<r.d2 else 0, axis=1)\n",
    "df['r2'] = df.apply(lambda r: 1 if r.d1>r.d2 else 0, axis=1)\n",
    "\n",
    "# Plotting\n",
    "import matplotlib.pyplot as plt\n",
    "plt.plot(df[df['r1'] == 0].X, df[df['r1'] == 0].Y,'ro',markersize =4)\n",
    "plt.plot(df[df['r1'] == 1].X, df[df['r1'] == 1].Y,'bo',markersize =4)\n",
    "plt.plot(centroid1[0],centroid1[1],'yo', markersize = 15)\n",
    "plt.plot(centroid2[0],centroid2[1],'yo', markersize = 15)"
   ]
  },
  {
   "cell_type": "code",
   "execution_count": 53,
   "metadata": {},
   "outputs": [
    {
     "name": "stdout",
     "output_type": "stream",
     "text": [
      "[5.663149701549265, 7.619485365168907] [0.8844093717100688, 0.8844093717100688]\n"
     ]
    }
   ],
   "source": [
    "#Iterarion 3\n",
    "#Re-assessing the Centroids\n",
    "a1 = sum(df.X*df.r1)/sum(df.r1)\n",
    "a2 = sum(df.X*df.r2)/sum(df.r2)\n",
    "b1 = sum(df.Y*df.r1)/sum(df.r1)\n",
    "b2 = sum(df.X*df.r2)/sum(df.r2)\n",
    "centroid1 = [a1,b1]\n",
    "centroid2 = [a2,b2]\n",
    "print (centroid1, centroid2)"
   ]
  },
  {
   "cell_type": "code",
   "execution_count": 54,
   "metadata": {},
   "outputs": [
    {
     "data": {
      "text/plain": [
       "[<matplotlib.lines.Line2D at 0x2b68f36e1c0>]"
      ]
     },
     "execution_count": 54,
     "metadata": {},
     "output_type": "execute_result"
    },
    {
     "data": {
      "image/png": "[encoded data removed]",
      "text/plain": [
       "<Figure size 432x288 with 1 Axes>"
      ]
     },
     "metadata": {
      "needs_background": "light"
     },
     "output_type": "display_data"
    }
   ],
   "source": [
    "# Determine distance from 1st updated centroid\n",
    "\n",
    "df['d1'] = np.sqrt((df.X-centroid1[0])**2 + (df.Y - centroid1[1])**2)\n",
    "df['d2'] = np.sqrt((df.X-centroid2[0])**2 + (df.Y - centroid2[1])**2)\n",
    "\n",
    "# Determing r - binary \n",
    "df['r1'] = df.apply(lambda r: 1 if r.d1<r.d2 else 0, axis=1)\n",
    "df['r2'] = df.apply(lambda r: 1 if r.d1>r.d2 else 0, axis=1)\n",
    "\n",
    "# Plotting\n",
    "import matplotlib.pyplot as plt\n",
    "plt.plot(df[df['r1'] == 0].X, df[df['r1'] == 0].Y,'ro',markersize =4)\n",
    "plt.plot(df[df['r1'] == 1].X, df[df['r1'] == 1].Y,'bo',markersize =4)\n",
    "plt.plot(centroid1[0],centroid1[1],'yo', markersize = 15)\n",
    "plt.plot(centroid2[0],centroid2[1],'yo', markersize = 15)"
   ]
  },
  {
   "cell_type": "code",
   "execution_count": 55,
   "metadata": {},
   "outputs": [
    {
     "name": "stdout",
     "output_type": "stream",
     "text": [
      "[5.9823004889994795, 7.991858561705684] [0.990959307307785, 0.990959307307785]\n"
     ]
    },
    {
     "data": {
      "text/plain": [
       "[<matplotlib.lines.Line2D at 0x2b68f3d58b0>]"
      ]
     },
     "execution_count": 55,
     "metadata": {},
     "output_type": "execute_result"
    },
    {
     "data": {
      "image/png": "[encoded data removed]",
      "text/plain": [
       "<Figure size 432x288 with 1 Axes>"
      ]
     },
     "metadata": {
      "needs_background": "light"
     },
     "output_type": "display_data"
    }
   ],
   "source": [
    "#Iterarion 4\n",
    "#Re-assessing the Centroids\n",
    "a1 = sum(df.X*df.r1)/sum(df.r1)\n",
    "a2 = sum(df.X*df.r2)/sum(df.r2)\n",
    "b1 = sum(df.Y*df.r1)/sum(df.r1)\n",
    "b2 = sum(df.X*df.r2)/sum(df.r2)\n",
    "centroid1 = [a1,b1]\n",
    "centroid2 = [a2,b2]\n",
    "print (centroid1, centroid2)\n",
    "\n",
    "# Determine distance from 1st updated centroid\n",
    "\n",
    "df['d1'] = np.sqrt((df.X-centroid1[0])**2 + (df.Y - centroid1[1])**2)\n",
    "df['d2'] = np.sqrt((df.X-centroid2[0])**2 + (df.Y - centroid2[1])**2)\n",
    "\n",
    "# Determing r - binary \n",
    "df['r1'] = df.apply(lambda r: 1 if r.d1<r.d2 else 0, axis=1)\n",
    "df['r2'] = df.apply(lambda r: 1 if r.d1>r.d2 else 0, axis=1)\n",
    "\n",
    "# Plotting\n",
    "import matplotlib.pyplot as plt\n",
    "plt.plot(df[df['r1'] == 0].X, df[df['r1'] == 0].Y,'ro',markersize =4)\n",
    "plt.plot(df[df['r1'] == 1].X, df[df['r1'] == 1].Y,'bo',markersize =4)\n",
    "plt.plot(centroid1[0],centroid1[1],'yo', markersize = 15)\n",
    "plt.plot(centroid2[0],centroid2[1],'yo', markersize = 15)"
   ]
  },
  {
   "cell_type": "code",
   "execution_count": null,
   "metadata": {},
   "outputs": [],
   "source": []
  },
  {
   "cell_type": "markdown",
   "metadata": {},
   "source": [
    "# changing mean and covariances"
   ]
  },
  {
   "cell_type": "code",
   "execution_count": 34,
   "metadata": {},
   "outputs": [],
   "source": [
    "# genearte points\n",
    "import numpy as np\n",
    "mean1 = [4,7]\n",
    "cov1 = [[1,2],[2,6]]\n",
    "sample1 = np.random.RandomState(100).multivariate_normal(mean1,cov1,10000)\n",
    "mean2 = [16,18]\n",
    "cov2 = [[3,4],[4,8]]\n",
    "sample2 = np.random.RandomState(150).multivariate_normal(mean2,cov2,10000)"
   ]
  },
  {
   "cell_type": "code",
   "execution_count": 35,
   "metadata": {},
   "outputs": [
    {
     "data": {
      "text/plain": [
       "[<matplotlib.lines.Line2D at 0x2b68cfd66a0>]"
      ]
     },
     "execution_count": 35,
     "metadata": {},
     "output_type": "execute_result"
    },
    {
     "data": {
      "image/png": "[encoded data removed]",
      "text/plain": [
       "<Figure size 432x288 with 1 Axes>"
      ]
     },
     "metadata": {
      "needs_background": "light"
     },
     "output_type": "display_data"
    }
   ],
   "source": [
    "# visulazie representation\n",
    "import matplotlib.pyplot as plt\n",
    "plt.plot(sample1[:,0],sample1[:,1],'go', markersize =4)\n",
    "plt.plot(sample2[:,0],sample2[:,1],'go', markersize =4)"
   ]
  },
  {
   "cell_type": "code",
   "execution_count": 36,
   "metadata": {},
   "outputs": [],
   "source": [
    "# concatenate 2 samples\n",
    "import numpy as np\n",
    "sample = np.concatenate((sample1,sample2),axis=0)\n",
    "\n",
    "#create DataFrame\n",
    "dic = {'X':sample[:,0],'Y':sample[:,1]}\n",
    "import pandas as pd\n",
    "df = pd.DataFrame(dic)\n",
    "\n",
    "\n",
    "\n",
    "\n"
   ]
  },
  {
   "cell_type": "code",
   "execution_count": 37,
   "metadata": {},
   "outputs": [
    {
     "data": {
      "text/html": [
       "<div>\n",
       "<style scoped>\n",
       "    .dataframe tbody tr th:only-of-type {\n",
       "        vertical-align: middle;\n",
       "    }\n",
       "\n",
       "    .dataframe tbody tr th {\n",
       "        vertical-align: top;\n",
       "    }\n",
       "\n",
       "    .dataframe thead th {\n",
       "        text-align: right;\n",
       "    }\n",
       "</style>\n",
       "<table border=\"1\" class=\"dataframe\">\n",
       "  <thead>\n",
       "    <tr style=\"text-align: right;\">\n",
       "      <th></th>\n",
       "      <th>X</th>\n",
       "      <th>Y</th>\n",
       "    </tr>\n",
       "  </thead>\n",
       "  <tbody>\n",
       "    <tr>\n",
       "      <th>count</th>\n",
       "      <td>20000.000000</td>\n",
       "      <td>20000.000000</td>\n",
       "    </tr>\n",
       "    <tr>\n",
       "      <th>mean</th>\n",
       "      <td>10.004711</td>\n",
       "      <td>12.499421</td>\n",
       "    </tr>\n",
       "    <tr>\n",
       "      <th>std</th>\n",
       "      <td>6.175201</td>\n",
       "      <td>6.126669</td>\n",
       "    </tr>\n",
       "    <tr>\n",
       "      <th>min</th>\n",
       "      <td>-0.891286</td>\n",
       "      <td>-2.085106</td>\n",
       "    </tr>\n",
       "    <tr>\n",
       "      <th>25%</th>\n",
       "      <td>4.006038</td>\n",
       "      <td>6.993296</td>\n",
       "    </tr>\n",
       "    <tr>\n",
       "      <th>50%</th>\n",
       "      <td>8.497833</td>\n",
       "      <td>12.160128</td>\n",
       "    </tr>\n",
       "    <tr>\n",
       "      <th>75%</th>\n",
       "      <td>15.994576</td>\n",
       "      <td>18.009166</td>\n",
       "    </tr>\n",
       "    <tr>\n",
       "      <th>max</th>\n",
       "      <td>22.669334</td>\n",
       "      <td>29.442730</td>\n",
       "    </tr>\n",
       "  </tbody>\n",
       "</table>\n",
       "</div>"
      ],
      "text/plain": [
       "                  X             Y\n",
       "count  20000.000000  20000.000000\n",
       "mean      10.004711     12.499421\n",
       "std        6.175201      6.126669\n",
       "min       -0.891286     -2.085106\n",
       "25%        4.006038      6.993296\n",
       "50%        8.497833     12.160128\n",
       "75%       15.994576     18.009166\n",
       "max       22.669334     29.442730"
      ]
     },
     "execution_count": 37,
     "metadata": {},
     "output_type": "execute_result"
    }
   ],
   "source": [
    "df.describe()"
   ]
  },
  {
   "cell_type": "code",
   "execution_count": 38,
   "metadata": {},
   "outputs": [
    {
     "name": "stdout",
     "output_type": "stream",
     "text": [
      "[15, -1] [16, 1]\n"
     ]
    }
   ],
   "source": [
    "\n",
    "#based on min and max value randomly choose a centroid\n",
    "centroid1 = [np.random.randint(-0.891286,22.669334),np.random.randint(-2.085106,29.442730)]\n",
    "centroid2 = [np.random.randint(-0.891286,22.669334),np.random.randint(-2.085106,29.442730)]\n",
    "print (centroid1, centroid2)"
   ]
  },
  {
   "cell_type": "code",
   "execution_count": 39,
   "metadata": {},
   "outputs": [
    {
     "data": {
      "text/plain": [
       "[<matplotlib.lines.Line2D at 0x2b68e0097c0>]"
      ]
     },
     "execution_count": 39,
     "metadata": {},
     "output_type": "execute_result"
    },
    {
     "data": {
      "image/png": "[encoded data removed]",
      "text/plain": [
       "<Figure size 432x288 with 1 Axes>"
      ]
     },
     "metadata": {
      "needs_background": "light"
     },
     "output_type": "display_data"
    }
   ],
   "source": [
    "#iteration 1\n",
    "# Determine distance from centroid\n",
    "\n",
    "df['d1'] = np.sqrt((df.X-centroid1[0])**2 + (df.Y - centroid1[1])**2)\n",
    "df['d2'] = np.sqrt((df.X-centroid2[0])**2 + (df.Y - centroid2[1])**2)\n",
    "\n",
    "# Determing r - binary \n",
    "df['r1'] = df.apply(lambda r: 1 if r.d1<r.d2 else 0, axis=1)\n",
    "df['r2'] = df.apply(lambda r: 1 if r.d1>r.d2 else 0, axis=1)\n",
    "\n",
    "# Plotting\n",
    "import matplotlib.pyplot as plt\n",
    "plt.plot(df[df['r1'] == 0].X, df[df['r1'] == 0].Y,'ro',markersize =4)\n",
    "plt.plot(df[df['r1'] == 1].X, df[df['r1'] == 1].Y,'bo',markersize =4)\n",
    "plt.plot(centroid1[0],centroid1[1],'yo', markersize = 15)\n",
    "plt.plot(centroid2[0],centroid2[1],'yo', markersize = 15)"
   ]
  },
  {
   "cell_type": "code",
   "execution_count": 40,
   "metadata": {},
   "outputs": [
    {
     "name": "stdout",
     "output_type": "stream",
     "text": [
      "[3.049559723049115, 4.340331039617316] [11.419679552111601, 11.419679552111601]\n"
     ]
    },
    {
     "data": {
      "text/plain": [
       "[<matplotlib.lines.Line2D at 0x2b68e06b9a0>]"
      ]
     },
     "execution_count": 40,
     "metadata": {},
     "output_type": "execute_result"
    },
    {
     "data": {
      "image/png": "[encoded data removed]",
      "text/plain": [
       "<Figure size 432x288 with 1 Axes>"
      ]
     },
     "metadata": {
      "needs_background": "light"
     },
     "output_type": "display_data"
    }
   ],
   "source": [
    "#Iterarion 2\n",
    "#Re-assessing the Centroids\n",
    "a1 = sum(df.X*df.r1)/sum(df.r1)\n",
    "a2 = sum(df.X*df.r2)/sum(df.r2)\n",
    "b1 = sum(df.Y*df.r1)/sum(df.r1)\n",
    "b2 = sum(df.X*df.r2)/sum(df.r2)\n",
    "centroid1 = [a1,b1]\n",
    "centroid2 = [a2,b2]\n",
    "print (centroid1, centroid2)\n",
    "\n",
    "# Determine distance from 1st updated centroid\n",
    "\n",
    "df['d1'] = np.sqrt((df.X-centroid1[0])**2 + (df.Y - centroid1[1])**2)\n",
    "df['d2'] = np.sqrt((df.X-centroid2[0])**2 + (df.Y - centroid2[1])**2)\n",
    "\n",
    "# Determing r - binary \n",
    "df['r1'] = df.apply(lambda r: 1 if r.d1<r.d2 else 0, axis=1)\n",
    "df['r2'] = df.apply(lambda r: 1 if r.d1>r.d2 else 0, axis=1)\n",
    "\n",
    "# Plotting\n",
    "import matplotlib.pyplot as plt\n",
    "plt.plot(df[df['r1'] == 0].X, df[df['r1'] == 0].Y,'ro',markersize =4)\n",
    "plt.plot(df[df['r1'] == 1].X, df[df['r1'] == 1].Y,'bo',markersize =4)\n",
    "plt.plot(centroid1[0],centroid1[1],'yo', markersize = 15)\n",
    "plt.plot(centroid2[0],centroid2[1],'yo', markersize = 15)\n",
    "\n"
   ]
  },
  {
   "cell_type": "code",
   "execution_count": 41,
   "metadata": {},
   "outputs": [
    {
     "name": "stdout",
     "output_type": "stream",
     "text": [
      "[3.8351575662289874, 6.553757892690548] [15.172080074093012, 15.172080074093012]\n"
     ]
    },
    {
     "data": {
      "text/plain": [
       "[<matplotlib.lines.Line2D at 0x2b68cd98400>]"
      ]
     },
     "execution_count": 41,
     "metadata": {},
     "output_type": "execute_result"
    },
    {
     "data": {
      "image/png": "[encoded data removed]",
      "text/plain": [
       "<Figure size 432x288 with 1 Axes>"
      ]
     },
     "metadata": {
      "needs_background": "light"
     },
     "output_type": "display_data"
    }
   ],
   "source": [
    "#Iterarion 3\n",
    "#Re-assessing the Centroids\n",
    "a1 = sum(df.X*df.r1)/sum(df.r1)\n",
    "a2 = sum(df.X*df.r2)/sum(df.r2)\n",
    "b1 = sum(df.Y*df.r1)/sum(df.r1)\n",
    "b2 = sum(df.X*df.r2)/sum(df.r2)\n",
    "centroid1 = [a1,b1]\n",
    "centroid2 = [a2,b2]\n",
    "print (centroid1, centroid2)\n",
    "\n",
    "# Determine distance from 1st updated centroid\n",
    "\n",
    "df['d1'] = np.sqrt((df.X-centroid1[0])**2 + (df.Y - centroid1[1])**2)\n",
    "df['d2'] = np.sqrt((df.X-centroid2[0])**2 + (df.Y - centroid2[1])**2)\n",
    "\n",
    "# Determing r - binary \n",
    "df['r1'] = df.apply(lambda r: 1 if r.d1<r.d2 else 0, axis=1)\n",
    "df['r2'] = df.apply(lambda r: 1 if r.d1>r.d2 else 0, axis=1)\n",
    "\n",
    "# Plotting\n",
    "import matplotlib.pyplot as plt\n",
    "plt.plot(df[df['r1'] == 0].X, df[df['r1'] == 0].Y,'ro',markersize =4)\n",
    "plt.plot(df[df['r1'] == 1].X, df[df['r1'] == 1].Y,'bo',markersize =4)\n",
    "plt.plot(centroid1[0],centroid1[1],'yo', markersize = 15)\n",
    "plt.plot(centroid2[0],centroid2[1],'yo', markersize = 15)"
   ]
  },
  {
   "cell_type": "code",
   "execution_count": 42,
   "metadata": {},
   "outputs": [
    {
     "name": "stdout",
     "output_type": "stream",
     "text": [
      "[3.9979085156247125, 6.974766402896825] [16.009110833928776, 16.009110833928776]\n"
     ]
    },
    {
     "data": {
      "text/plain": [
       "[<matplotlib.lines.Line2D at 0x2b68e035760>]"
      ]
     },
     "execution_count": 42,
     "metadata": {},
     "output_type": "execute_result"
    },
    {
     "data": {
      "image/png": "[encoded data removed]",
      "text/plain": [
       "<Figure size 432x288 with 1 Axes>"
      ]
     },
     "metadata": {
      "needs_background": "light"
     },
     "output_type": "display_data"
    }
   ],
   "source": [
    "#Iterarion 4\n",
    "#Re-assessing the Centroids\n",
    "a1 = sum(df.X*df.r1)/sum(df.r1)\n",
    "a2 = sum(df.X*df.r2)/sum(df.r2)\n",
    "b1 = sum(df.Y*df.r1)/sum(df.r1)\n",
    "b2 = sum(df.X*df.r2)/sum(df.r2)\n",
    "centroid1 = [a1,b1]\n",
    "centroid2 = [a2,b2]\n",
    "print (centroid1, centroid2)\n",
    "\n",
    "# Determine distance from 1st updated centroid\n",
    "\n",
    "df['d1'] = np.sqrt((df.X-centroid1[0])**2 + (df.Y - centroid1[1])**2)\n",
    "df['d2'] = np.sqrt((df.X-centroid2[0])**2 + (df.Y - centroid2[1])**2)\n",
    "\n",
    "# Determing r - binary \n",
    "df['r1'] = df.apply(lambda r: 1 if r.d1<r.d2 else 0, axis=1)\n",
    "df['r2'] = df.apply(lambda r: 1 if r.d1>r.d2 else 0, axis=1)\n",
    "\n",
    "# Plotting\n",
    "import matplotlib.pyplot as plt\n",
    "plt.plot(df[df['r1'] == 0].X, df[df['r1'] == 0].Y,'ro',markersize =4)\n",
    "plt.plot(df[df['r1'] == 1].X, df[df['r1'] == 1].Y,'bo',markersize =4)\n",
    "plt.plot(centroid1[0],centroid1[1],'yo', markersize = 15)\n",
    "plt.plot(centroid2[0],centroid2[1],'yo', markersize = 15)"
   ]
  },
  {
   "cell_type": "code",
   "execution_count": null,
   "metadata": {},
   "outputs": [],
   "source": []
  }
 ],
 "metadata": {
  "kernelspec": {
   "display_name": "Python 3",
   "language": "python",
   "name": "python3"
  },
  "language_info": {
   "codemirror_mode": {
    "name": "ipython",
    "version": 3
   },
   "file_extension": ".py",
   "mimetype": "text/x-python",
   "name": "python",
   "nbconvert_exporter": "python",
   "pygments_lexer": "ipython3",
   "version": "3.8.3"
  }
 },
 "nbformat": 4,
 "nbformat_minor": 4
}
