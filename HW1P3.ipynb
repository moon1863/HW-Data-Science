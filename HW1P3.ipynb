{
 "cells": [
  {
   "cell_type": "code",
   "execution_count": 1,
   "metadata": {},
   "outputs": [],
   "source": [
    "import pandas as  pd\n",
    "from sklearn.datasets import load_svmlight_file\n",
    "from sklearn.model_selection import train_test_split\n",
    "from sklearn.naive_bayes import MultinomialNB\n",
    "from scipy.sparse import csr_matrix\n",
    "import numpy as np\n",
    "from scipy.sparse import hstack\n",
    "from sklearn import metrics\n",
    "from sklearn.metrics import confusion_matrix"
   ]
  },
  {
   "cell_type": "code",
   "execution_count": 2,
   "metadata": {},
   "outputs": [],
   "source": [
    "#function for loading svmlight file \n",
    "def get_data(file):\n",
    "    data = load_svmlight_file(file)\n",
    "    return data[0], data[1]\n",
    "#feature matrix and target vector\n",
    "X, y = get_data(\"task_a_labeled_train.tf\")"
   ]
  },
  {
   "cell_type": "code",
   "execution_count": 3,
   "metadata": {},
   "outputs": [
    {
     "name": "stdout",
     "output_type": "stream",
     "text": [
      "  (0, 8)\t3.0\n",
      "  (0, 93)\t1.0\n",
      "  (0, 108)\t1.0\n",
      "  (0, 162)\t1.0\n",
      "  (0, 404)\t1.0\n",
      "  (0, 405)\t1.0\n",
      "  (0, 414)\t2.0\n",
      "  (0, 415)\t1.0\n",
      "  (0, 434)\t3.0\n",
      "  (0, 435)\t3.0\n",
      "  (0, 436)\t4.0\n",
      "  (0, 439)\t4.0\n",
      "  (0, 449)\t3.0\n",
      "  (0, 455)\t1.0\n",
      "  (0, 456)\t1.0\n",
      "  (0, 460)\t1.0\n",
      "  (0, 465)\t1.0\n",
      "  (0, 466)\t1.0\n",
      "  (0, 476)\t1.0\n",
      "  (0, 477)\t1.0\n",
      "  (0, 750)\t1.0\n",
      "  (0, 1014)\t1.0\n",
      "  (0, 1033)\t14.0\n",
      "  (0, 1040)\t1.0\n",
      "  (0, 1215)\t1.0\n",
      "  :\t:\n",
      "  (3998, 123642)\t1.0\n",
      "  (3998, 123643)\t1.0\n",
      "  (3998, 206907)\t4.0\n",
      "  (3999, 93)\t3.0\n",
      "  (3999, 103)\t1.0\n",
      "  (3999, 130)\t1.0\n",
      "  (3999, 350)\t1.0\n",
      "  (3999, 525)\t1.0\n",
      "  (3999, 587)\t3.0\n",
      "  (3999, 1298)\t1.0\n",
      "  (3999, 1299)\t1.0\n",
      "  (3999, 2165)\t1.0\n",
      "  (3999, 2558)\t1.0\n",
      "  (3999, 2559)\t1.0\n",
      "  (3999, 2675)\t2.0\n",
      "  (3999, 2868)\t1.0\n",
      "  (3999, 3410)\t1.0\n",
      "  (3999, 3494)\t1.0\n",
      "  (3999, 4205)\t1.0\n",
      "  (3999, 4477)\t1.0\n",
      "  (3999, 16949)\t1.0\n",
      "  (3999, 47185)\t1.0\n",
      "  (3999, 54546)\t1.0\n",
      "  (3999, 88296)\t1.0\n",
      "  (3999, 177402)\t1.0\n"
     ]
    }
   ],
   "source": [
    "X\n",
    "print(X)"
   ]
  },
  {
   "cell_type": "code",
   "execution_count": 25,
   "metadata": {},
   "outputs": [
    {
     "name": "stdout",
     "output_type": "stream",
     "text": [
      "[ 1.  1. -1. ...  1.  1.  1.]\n"
     ]
    }
   ],
   "source": [
    "print(y)"
   ]
  },
  {
   "cell_type": "code",
   "execution_count": 26,
   "metadata": {},
   "outputs": [
    {
     "name": "stdout",
     "output_type": "stream",
     "text": [
      "(2800, 206908)\n",
      "(1200, 206908)\n",
      "(2800,)\n",
      "(1200,)\n"
     ]
    }
   ],
   "source": [
    "#split into train and test data\n",
    "X_train, X_test, y_train, y_test = train_test_split(X, y, test_size = 0.3, random_state = 1)\n",
    "\n",
    "print(X_train.shape)\n",
    "print(X_test.shape)\n",
    "print(y_train.shape)\n",
    "print(y_test.shape)"
   ]
  },
  {
   "cell_type": "code",
   "execution_count": 27,
   "metadata": {},
   "outputs": [],
   "source": [
    "#fit the model\n",
    "nb = MultinomialNB()\n",
    "nb.fit(X_train, y_train)\n",
    "y_pred = nb.predict(X_test)"
   ]
  },
  {
   "cell_type": "code",
   "execution_count": 28,
   "metadata": {},
   "outputs": [
    {
     "data": {
      "text/plain": [
       "array([-1., -1., -1., ...,  1.,  1., -1.])"
      ]
     },
     "execution_count": 28,
     "metadata": {},
     "output_type": "execute_result"
    }
   ],
   "source": [
    "y_pred"
   ]
  },
  {
   "cell_type": "code",
   "execution_count": 36,
   "metadata": {},
   "outputs": [
    {
     "name": "stdout",
     "output_type": "stream",
     "text": [
      "Test accuracy for test data of task_a_labeled_train.tf:  96.16666666666667 %\n"
     ]
    }
   ],
   "source": [
    "# calculate accuracy of class predictions\n",
    "\n",
    "print(\"Test accuracy for test data of task_a_labeled_train.tf: \",metrics.accuracy_score(y_test, y_pred)*100,\"%\")"
   ]
  },
  {
   "cell_type": "code",
   "execution_count": 30,
   "metadata": {},
   "outputs": [],
   "source": [
    "#test the performance of your classifier on the data found in task_a_u00_tune.tf\n",
    "X_tune, y_tune = get_data(\"task_a_u00_tune.tf\")"
   ]
  },
  {
   "cell_type": "code",
   "execution_count": 31,
   "metadata": {},
   "outputs": [
    {
     "name": "stdout",
     "output_type": "stream",
     "text": [
      "  (0, 0)\t1.0\n",
      "  (0, 1)\t1.0\n",
      "  (0, 2)\t3.0\n",
      "  (0, 3)\t1.0\n",
      "  (0, 4)\t1.0\n",
      "  (0, 5)\t1.0\n",
      "  (0, 6)\t1.0\n",
      "  (0, 7)\t1.0\n",
      "  (0, 8)\t1.0\n",
      "  (0, 9)\t1.0\n",
      "  (0, 10)\t1.0\n",
      "  (0, 11)\t1.0\n",
      "  (0, 12)\t1.0\n",
      "  (0, 13)\t17.0\n",
      "  (0, 14)\t1.0\n",
      "  (0, 15)\t1.0\n",
      "  (0, 16)\t1.0\n",
      "  (0, 17)\t1.0\n",
      "  (0, 18)\t1.0\n",
      "  (0, 19)\t1.0\n",
      "  (0, 20)\t1.0\n",
      "  (0, 21)\t1.0\n",
      "  (0, 22)\t1.0\n",
      "  (0, 23)\t1.0\n",
      "  (0, 24)\t1.0\n",
      "  :\t:\n",
      "  (2499, 4122)\t1.0\n",
      "  (2499, 4317)\t1.0\n",
      "  (2499, 4372)\t1.0\n",
      "  (2499, 4406)\t1.0\n",
      "  (2499, 4733)\t1.0\n",
      "  (2499, 4744)\t1.0\n",
      "  (2499, 6787)\t1.0\n",
      "  (2499, 7423)\t1.0\n",
      "  (2499, 7841)\t1.0\n",
      "  (2499, 8675)\t1.0\n",
      "  (2499, 10284)\t3.0\n",
      "  (2499, 10400)\t1.0\n",
      "  (2499, 11236)\t1.0\n",
      "  (2499, 12634)\t1.0\n",
      "  (2499, 15007)\t1.0\n",
      "  (2499, 15582)\t1.0\n",
      "  (2499, 19689)\t1.0\n",
      "  (2499, 19732)\t1.0\n",
      "  (2499, 21790)\t1.0\n",
      "  (2499, 23329)\t2.0\n",
      "  (2499, 27291)\t1.0\n",
      "  (2499, 27292)\t1.0\n",
      "  (2499, 44951)\t1.0\n",
      "  (2499, 46956)\t1.0\n",
      "  (2499, 48937)\t1.0\n"
     ]
    },
    {
     "data": {
      "text/plain": [
       "(2500, 48938)"
      ]
     },
     "execution_count": 31,
     "metadata": {},
     "output_type": "execute_result"
    }
   ],
   "source": [
    "print(X_tune)\n",
    "X_tune.shape"
   ]
  },
  {
   "cell_type": "code",
   "execution_count": 32,
   "metadata": {},
   "outputs": [
    {
     "name": "stdout",
     "output_type": "stream",
     "text": [
      "[-1. -1. -1. ...  1. -1. -1.]\n"
     ]
    }
   ],
   "source": [
    "print(y_tune)"
   ]
  },
  {
   "cell_type": "code",
   "execution_count": 33,
   "metadata": {},
   "outputs": [
    {
     "data": {
      "text/plain": [
       "(2500, 206908)"
      ]
     },
     "execution_count": 33,
     "metadata": {},
     "output_type": "execute_result"
    }
   ],
   "source": [
    "#making same size for feature matrix\n",
    "filler = csr_matrix((2500, 157970), dtype = np.int8)\n",
    "X_tune=hstack((X_tune, filler))\n",
    "X_tune.shape"
   ]
  },
  {
   "cell_type": "code",
   "execution_count": 35,
   "metadata": {},
   "outputs": [
    {
     "name": "stdout",
     "output_type": "stream",
     "text": [
      "Test accuracy for test data of task_a_labeled_train.tf:  38.76 %\n"
     ]
    }
   ],
   "source": [
    "#test the performance of your classifier on the data found in task_a_u00_tune.tf\n",
    "y_tune_predict=nb.predict(X_tune)\n",
    "print(\"Test accuracy for test data of task_a_labeled_train.tf: \",metrics.accuracy_score(y_tune, y_tune_predict)*100,\n",
    "\"%\")\n"
   ]
  },
  {
   "cell_type": "code",
   "execution_count": null,
   "metadata": {},
   "outputs": [],
   "source": []
  }
 ],
 "metadata": {
  "kernelspec": {
   "display_name": "Python 3",
   "language": "python",
   "name": "python3"
  },
  "language_info": {
   "codemirror_mode": {
    "name": "ipython",
    "version": 3
   },
   "file_extension": ".py",
   "mimetype": "text/x-python",
   "name": "python",
   "nbconvert_exporter": "python",
   "pygments_lexer": "ipython3",
   "version": "3.8.3"
  }
 },
 "nbformat": 4,
 "nbformat_minor": 4
}
