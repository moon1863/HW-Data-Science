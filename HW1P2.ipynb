{
 "cells": [
  {
   "cell_type": "code",
   "execution_count": 10,
   "metadata": {},
   "outputs": [],
   "source": [
    "import pandas as pd\n",
    "#1st test\n",
    "T1 = {'x-_t1-':0.91, 'x+_t1-':0.07,'x-_t1+':0.09,'x+_t1+':0.93}\n",
    "#2nd test\n",
    "T2 = {'x-_t2-':0.98, 'x+_t2-':0.01,'x-_t2+':0.02,'x+_t2+':0.99}\n",
    "#Prior Probability\n",
    "Pr_pos = 0.005\n",
    "Pr_neg = 1-Pr_pos"
   ]
  },
  {
   "cell_type": "code",
   "execution_count": 11,
   "metadata": {},
   "outputs": [],
   "source": [
    "#function of bayes theorem\n",
    "def Bayes_Theorem(a,b,p,c,d):\n",
    "    probability = (a*b*p) / (a*b*p+c*d*(1-p))\n",
    "    return probability"
   ]
  },
  {
   "cell_type": "markdown",
   "metadata": {},
   "source": [
    "1) P(x+ Given, t1+, t2+)"
   ]
  },
  {
   "cell_type": "code",
   "execution_count": 12,
   "metadata": {},
   "outputs": [
    {
     "data": {
      "text/plain": [
       "0.7199155524278678"
      ]
     },
     "execution_count": 12,
     "metadata": {},
     "output_type": "execute_result"
    }
   ],
   "source": [
    "Bayes_Theorem(T1['x+_t1+'],T2['x+_t2+'],Pr_pos,T1['x-_t1+'],T2['x-_t2+'])"
   ]
  },
  {
   "cell_type": "markdown",
   "metadata": {},
   "source": [
    "2) P(x+ Given, t1+, t2-)"
   ]
  },
  {
   "cell_type": "code",
   "execution_count": 13,
   "metadata": {},
   "outputs": [
    {
     "data": {
      "text/plain": [
       "0.0005295795821446265"
      ]
     },
     "execution_count": 13,
     "metadata": {},
     "output_type": "execute_result"
    }
   ],
   "source": [
    "Bayes_Theorem(T1['x+_t1+'],T2['x+_t2-'],Pr_pos,T1['x-_t1+'],T2['x-_t2-'])"
   ]
  },
  {
   "cell_type": "markdown",
   "metadata": {},
   "source": [
    "3) P(x+ Given, t1-, t2+)"
   ]
  },
  {
   "cell_type": "code",
   "execution_count": 14,
   "metadata": {},
   "outputs": [
    {
     "data": {
      "text/plain": [
       "0.018774890953916178"
      ]
     },
     "execution_count": 14,
     "metadata": {},
     "output_type": "execute_result"
    }
   ],
   "source": [
    "Bayes_Theorem(T1['x+_t1-'],T2['x+_t2+'],Pr_pos,T1['x-_t1-'],T2['x-_t2+'])"
   ]
  },
  {
   "cell_type": "markdown",
   "metadata": {},
   "source": [
    "4) P(x+ Given, t1-, t2-)"
   ]
  },
  {
   "cell_type": "code",
   "execution_count": 16,
   "metadata": {},
   "outputs": [
    {
     "data": {
      "text/plain": [
       "3.9443530669317274e-06"
      ]
     },
     "execution_count": 16,
     "metadata": {},
     "output_type": "execute_result"
    }
   ],
   "source": [
    "Bayes_Theorem(T1['x+_t1-'],T2['x+_t2-'],Pr_pos,T1['x-_t1-'],T2['x-_t2-'])"
   ]
  },
  {
   "cell_type": "code",
   "execution_count": null,
   "metadata": {},
   "outputs": [],
   "source": []
  }
 ],
 "metadata": {
  "kernelspec": {
   "display_name": "Python 3",
   "language": "python",
   "name": "python3"
  },
  "language_info": {
   "codemirror_mode": {
    "name": "ipython",
    "version": 3
   },
   "file_extension": ".py",
   "mimetype": "text/x-python",
   "name": "python",
   "nbconvert_exporter": "python",
   "pygments_lexer": "ipython3",
   "version": "3.8.3"
  }
 },
 "nbformat": 4,
 "nbformat_minor": 4
}
